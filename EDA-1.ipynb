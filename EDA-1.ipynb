{
 "cells": [
  {
   "cell_type": "markdown",
   "id": "649b18ed",
   "metadata": {},
   "source": [
    "## Import some libraries "
   ]
  },
  {
   "cell_type": "code",
   "execution_count": 1,
   "id": "ce09f286",
   "metadata": {},
   "outputs": [
    {
     "name": "stdout",
     "output_type": "stream",
     "text": [
      "['EDA-1.ipynb', '.ipynb_checkpoints', 'EDA-2.ipynb']\n"
     ]
    }
   ],
   "source": [
    "import matplotlib.pyplot as plt\n",
    "import seaborn as sns\n",
    "import numpy as np \n",
    "import pandas as pd\n",
    "import os\n",
    "\n",
    "%matplotlib inline\n",
    "\n",
    "print(os.listdir())"
   ]
  },
  {
   "cell_type": "code",
   "execution_count": 2,
   "id": "1c57f4a4",
   "metadata": {},
   "outputs": [
    {
     "name": "stdout",
     "output_type": "stream",
     "text": [
      "['yoochoose-test.dat', 'yoochoose-clicks.dat', 'my_training_data_raw.zip', 'dataset-README.txt', 'my_buys_data_raw.zip', 'yoochoose-buys.dat']\n"
     ]
    }
   ],
   "source": [
    "data_dir = \"../../DATA/kaggle/yoochoose/yoochoose-data/\"\n",
    "file_data = os.listdir(data_dir)\n",
    "print(file_data)"
   ]
  },
  {
   "cell_type": "markdown",
   "id": "5e62282f",
   "metadata": {},
   "source": [
    "## Read Data"
   ]
  },
  {
   "cell_type": "markdown",
   "id": "0f52902f",
   "metadata": {},
   "source": [
    "**Read Data and Give Column's name**"
   ]
  },
  {
   "cell_type": "markdown",
   "id": "604d6086",
   "metadata": {},
   "source": [
    "*Read `Buys` data*\n",
    "\n",
    "The file `yoochoose-buys.dat` comprising the *buy events* of the users over the items.\n",
    "Each record/line in the file has the following fields: `Session ID`, `Timestamp`, `Item ID`, `Price`, `Quantity`\n",
    "\n",
    "* `Session ID` - the id of the session. **In one session there are one or many buying events**. Could be represented as an integer number.\n",
    "* `Timestamp` - the time **when the buy occurred**. Format of `YYYY-MM-DDThh:mm:ss.SSSZ`\n",
    "* `Item ID` – the unique identifier of **item that has been bought**. Could be represented as an integer number.\n",
    "* `Price` – the **price of the item**. Could be represented as an integer number.\n",
    "* `Quantity` – the **quantity in this buying**.  Could be represented as an integer number."
   ]
  },
  {
   "cell_type": "code",
   "execution_count": 5,
   "id": "6d584aaa",
   "metadata": {},
   "outputs": [],
   "source": [
    "buys_df = pd.read_csv(data_dir + 'yoochoose-buys.dat',names=[\"Session_ID\", \"Timestamp\", \"Item_ID\", \"Price\", \"Quantity\"])"
   ]
  },
  {
   "cell_type": "markdown",
   "id": "e2efd86c",
   "metadata": {},
   "source": [
    "**Check data**"
   ]
  },
  {
   "cell_type": "code",
   "execution_count": 6,
   "id": "c62db315",
   "metadata": {},
   "outputs": [
    {
     "data": {
      "text/html": [
       "<div>\n",
       "<style scoped>\n",
       "    .dataframe tbody tr th:only-of-type {\n",
       "        vertical-align: middle;\n",
       "    }\n",
       "\n",
       "    .dataframe tbody tr th {\n",
       "        vertical-align: top;\n",
       "    }\n",
       "\n",
       "    .dataframe thead th {\n",
       "        text-align: right;\n",
       "    }\n",
       "</style>\n",
       "<table border=\"1\" class=\"dataframe\">\n",
       "  <thead>\n",
       "    <tr style=\"text-align: right;\">\n",
       "      <th></th>\n",
       "      <th>Session_ID</th>\n",
       "      <th>Timestamp</th>\n",
       "      <th>Item_ID</th>\n",
       "      <th>Price</th>\n",
       "      <th>Quantity</th>\n",
       "    </tr>\n",
       "  </thead>\n",
       "  <tbody>\n",
       "    <tr>\n",
       "      <th>0</th>\n",
       "      <td>420374</td>\n",
       "      <td>2014-04-06T18:44:58.314Z</td>\n",
       "      <td>214537888</td>\n",
       "      <td>12462</td>\n",
       "      <td>1</td>\n",
       "    </tr>\n",
       "    <tr>\n",
       "      <th>1</th>\n",
       "      <td>420374</td>\n",
       "      <td>2014-04-06T18:44:58.325Z</td>\n",
       "      <td>214537850</td>\n",
       "      <td>10471</td>\n",
       "      <td>1</td>\n",
       "    </tr>\n",
       "    <tr>\n",
       "      <th>2</th>\n",
       "      <td>281626</td>\n",
       "      <td>2014-04-06T09:40:13.032Z</td>\n",
       "      <td>214535653</td>\n",
       "      <td>1883</td>\n",
       "      <td>1</td>\n",
       "    </tr>\n",
       "    <tr>\n",
       "      <th>3</th>\n",
       "      <td>420368</td>\n",
       "      <td>2014-04-04T06:13:28.848Z</td>\n",
       "      <td>214530572</td>\n",
       "      <td>6073</td>\n",
       "      <td>1</td>\n",
       "    </tr>\n",
       "    <tr>\n",
       "      <th>4</th>\n",
       "      <td>420368</td>\n",
       "      <td>2014-04-04T06:13:28.858Z</td>\n",
       "      <td>214835025</td>\n",
       "      <td>2617</td>\n",
       "      <td>1</td>\n",
       "    </tr>\n",
       "  </tbody>\n",
       "</table>\n",
       "</div>"
      ],
      "text/plain": [
       "   Session_ID                 Timestamp    Item_ID  Price  Quantity\n",
       "0      420374  2014-04-06T18:44:58.314Z  214537888  12462         1\n",
       "1      420374  2014-04-06T18:44:58.325Z  214537850  10471         1\n",
       "2      281626  2014-04-06T09:40:13.032Z  214535653   1883         1\n",
       "3      420368  2014-04-04T06:13:28.848Z  214530572   6073         1\n",
       "4      420368  2014-04-04T06:13:28.858Z  214835025   2617         1"
      ]
     },
     "execution_count": 6,
     "metadata": {},
     "output_type": "execute_result"
    }
   ],
   "source": [
    "buys_df.head()"
   ]
  },
  {
   "cell_type": "markdown",
   "id": "21b7e795",
   "metadata": {},
   "source": [
    "**Check data structure**"
   ]
  },
  {
   "cell_type": "code",
   "execution_count": 7,
   "id": "7839c54c",
   "metadata": {},
   "outputs": [
    {
     "name": "stdout",
     "output_type": "stream",
     "text": [
      "<class 'pandas.core.frame.DataFrame'>\n",
      "RangeIndex: 1150753 entries, 0 to 1150752\n",
      "Data columns (total 5 columns):\n",
      "Session_ID    1150753 non-null int64\n",
      "Timestamp     1150753 non-null object\n",
      "Item_ID       1150753 non-null int64\n",
      "Price         1150753 non-null int64\n",
      "Quantity      1150753 non-null int64\n",
      "dtypes: int64(4), object(1)\n",
      "memory usage: 43.9+ MB\n"
     ]
    }
   ],
   "source": [
    "buys_df.info()"
   ]
  },
  {
   "cell_type": "markdown",
   "id": "d5dd1971",
   "metadata": {},
   "source": [
    "**check if any missing data**"
   ]
  },
  {
   "cell_type": "code",
   "execution_count": 8,
   "id": "0e751777",
   "metadata": {},
   "outputs": [
    {
     "data": {
      "text/plain": [
       "Session_ID    0\n",
       "Timestamp     0\n",
       "Item_ID       0\n",
       "Price         0\n",
       "Quantity      0\n",
       "dtype: int64"
      ]
     },
     "execution_count": 8,
     "metadata": {},
     "output_type": "execute_result"
    }
   ],
   "source": [
    "buys_df.isnull().sum()"
   ]
  },
  {
   "cell_type": "markdown",
   "id": "0168f597",
   "metadata": {},
   "source": [
    "*No Missing data on `Buys`*"
   ]
  },
  {
   "cell_type": "markdown",
   "id": "02b69a70",
   "metadata": {},
   "source": [
    "**Read Data and Give Column's name**\n",
    "\n",
    "*Read `Clicks` data*\n",
    "\n",
    "The file `yoochoose-clicks.dat` comprising the **clicks** of the users over the items.\n",
    "\n",
    "Each record/line in the file has the following fields/format: `Session ID`, `Timestamp`, `Item ID`, `Category`\n",
    "\n",
    "* `Session ID` – the id of the session. In *one session there are one or many clicks*. Could be represented as an integer number.\n",
    "* `Timestamp` – the *time when the click occurred*. Format of `YYYY-MM-DDThh:mm:ss.SSSZ`\n",
    "* `Item ID` – the *unique identifier of the item* that has been clicked. Could be represented as an integer number.\n",
    "* `Category` – the context of the click. The value `\"S\"` indicates *a special offer*, `\"0\"` indicates  *a missing value*, a number between `1 to 12` indicates *a real category* identifier,\n",
    "\n",
    "**any other number indicates a brand**. E.g. if an item has been clicked in the context of a promotion or special offer then the value will be `\"S\"`, *if the context was a brand* i.e `BOSCH`,\n",
    " then the value will be an `8-10` digits number. *If the item has been clicked under regular category, i.e. sport, then the value will be a number between 1 to 12.* "
   ]
  },
  {
   "cell_type": "code",
   "execution_count": 11,
   "id": "14afecfb",
   "metadata": {},
   "outputs": [],
   "source": [
    "clicks_df = pd.read_csv(data_dir + 'yoochoose-clicks.dat',names=[\"Session_ID\", \"Timestamp\", \"Item_ID\", \"Category\"])"
   ]
  },
  {
   "cell_type": "markdown",
   "id": "80d73c53",
   "metadata": {},
   "source": [
    "**check the data**"
   ]
  },
  {
   "cell_type": "code",
   "execution_count": 12,
   "id": "4e5f2a3e",
   "metadata": {},
   "outputs": [
    {
     "data": {
      "text/html": [
       "<div>\n",
       "<style scoped>\n",
       "    .dataframe tbody tr th:only-of-type {\n",
       "        vertical-align: middle;\n",
       "    }\n",
       "\n",
       "    .dataframe tbody tr th {\n",
       "        vertical-align: top;\n",
       "    }\n",
       "\n",
       "    .dataframe thead th {\n",
       "        text-align: right;\n",
       "    }\n",
       "</style>\n",
       "<table border=\"1\" class=\"dataframe\">\n",
       "  <thead>\n",
       "    <tr style=\"text-align: right;\">\n",
       "      <th></th>\n",
       "      <th>Session_ID</th>\n",
       "      <th>Timestamp</th>\n",
       "      <th>Item_ID</th>\n",
       "      <th>Category</th>\n",
       "    </tr>\n",
       "  </thead>\n",
       "  <tbody>\n",
       "    <tr>\n",
       "      <th>0</th>\n",
       "      <td>1</td>\n",
       "      <td>2014-04-07T10:51:09.277Z</td>\n",
       "      <td>214536502</td>\n",
       "      <td>0</td>\n",
       "    </tr>\n",
       "    <tr>\n",
       "      <th>1</th>\n",
       "      <td>1</td>\n",
       "      <td>2014-04-07T10:54:09.868Z</td>\n",
       "      <td>214536500</td>\n",
       "      <td>0</td>\n",
       "    </tr>\n",
       "    <tr>\n",
       "      <th>2</th>\n",
       "      <td>1</td>\n",
       "      <td>2014-04-07T10:54:46.998Z</td>\n",
       "      <td>214536506</td>\n",
       "      <td>0</td>\n",
       "    </tr>\n",
       "    <tr>\n",
       "      <th>3</th>\n",
       "      <td>1</td>\n",
       "      <td>2014-04-07T10:57:00.306Z</td>\n",
       "      <td>214577561</td>\n",
       "      <td>0</td>\n",
       "    </tr>\n",
       "    <tr>\n",
       "      <th>4</th>\n",
       "      <td>2</td>\n",
       "      <td>2014-04-07T13:56:37.614Z</td>\n",
       "      <td>214662742</td>\n",
       "      <td>0</td>\n",
       "    </tr>\n",
       "  </tbody>\n",
       "</table>\n",
       "</div>"
      ],
      "text/plain": [
       "   Session_ID                 Timestamp    Item_ID Category\n",
       "0           1  2014-04-07T10:51:09.277Z  214536502        0\n",
       "1           1  2014-04-07T10:54:09.868Z  214536500        0\n",
       "2           1  2014-04-07T10:54:46.998Z  214536506        0\n",
       "3           1  2014-04-07T10:57:00.306Z  214577561        0\n",
       "4           2  2014-04-07T13:56:37.614Z  214662742        0"
      ]
     },
     "execution_count": 12,
     "metadata": {},
     "output_type": "execute_result"
    }
   ],
   "source": [
    "clicks_df.head()"
   ]
  },
  {
   "cell_type": "code",
   "execution_count": 13,
   "id": "c215e44b",
   "metadata": {},
   "outputs": [
    {
     "name": "stdout",
     "output_type": "stream",
     "text": [
      "<class 'pandas.core.frame.DataFrame'>\n",
      "RangeIndex: 33003944 entries, 0 to 33003943\n",
      "Data columns (total 4 columns):\n",
      "Session_ID    int64\n",
      "Timestamp     object\n",
      "Item_ID       int64\n",
      "Category      object\n",
      "dtypes: int64(2), object(2)\n",
      "memory usage: 1007.2+ MB\n"
     ]
    }
   ],
   "source": [
    "clicks_df.info()"
   ]
  },
  {
   "cell_type": "code",
   "execution_count": 14,
   "id": "9a1d3880",
   "metadata": {},
   "outputs": [
    {
     "data": {
      "text/plain": [
       "Session_ID    0\n",
       "Timestamp     0\n",
       "Item_ID       0\n",
       "Category      0\n",
       "dtype: int64"
      ]
     },
     "execution_count": 14,
     "metadata": {},
     "output_type": "execute_result"
    }
   ],
   "source": [
    "clicks_df.isnull().sum()"
   ]
  },
  {
   "cell_type": "markdown",
   "id": "1709c0a1",
   "metadata": {},
   "source": [
    "## EDA & Preprocessing "
   ]
  },
  {
   "cell_type": "markdown",
   "id": "f6195b8c",
   "metadata": {},
   "source": [
    "### EDA for `clicks`"
   ]
  },
  {
   "cell_type": "markdown",
   "id": "49b70453",
   "metadata": {},
   "source": [
    "*Select click's on items with category*"
   ]
  },
  {
   "cell_type": "code",
   "execution_count": 15,
   "id": "cf2c6b75",
   "metadata": {},
   "outputs": [],
   "source": [
    "category_analaysis = clicks_df[(clicks_df['Category'].isin(['S','0','1','2','3','4','5','6','7','8','9','10','11','12']))]"
   ]
  },
  {
   "cell_type": "code",
   "execution_count": 16,
   "id": "75ab7ec8",
   "metadata": {},
   "outputs": [
    {
     "data": {
      "image/png": "[encoded data removed]",
      "text/plain": [
       "<Figure size 432x288 with 1 Axes>"
      ]
     },
     "metadata": {
      "needs_background": "light"
     },
     "output_type": "display_data"
    },
    {
     "data": {
      "image/png": "[encoded data removed]",
      "text/plain": [
       "<Figure size 432x288 with 1 Axes>"
      ]
     },
     "metadata": {
      "needs_background": "light"
     },
     "output_type": "display_data"
    }
   ],
   "source": [
    "click_category_chart = sns.barplot(x=category_analaysis['Category'].value_counts().index, y=category_analaysis['Category'].value_counts())\n",
    "click_category_chart.set_xticklabels(click_category_chart.get_xticklabels(),rotation=45)\n",
    "plt.xlabel('Category')\n",
    "plt.ylabel('Count')\n",
    "plt.title('Count of clicks against each Category')\n",
    "plt.show()\n",
    "\n",
    "click_item_chart = sns.barplot(x=clicks_df['Item_ID'].value_counts().nlargest(10).index, y=clicks_df['Item_ID'].value_counts().nlargest(10))\n",
    "click_item_chart.set_xticklabels(click_item_chart.get_xticklabels(),rotation=45)\n",
    "plt.xlabel('Item_ID')\n",
    "plt.ylabel('Count')\n",
    "plt.title('Top 10 Items having maximum clicks:')\n",
    "plt.show()"
   ]
  },
  {
   "cell_type": "markdown",
   "id": "c5b1342b",
   "metadata": {},
   "source": [
    "### EDA for `Buys`"
   ]
  },
  {
   "cell_type": "markdown",
   "id": "fc5ea464",
   "metadata": {},
   "source": [
    "**Top 10 Items**"
   ]
  },
  {
   "cell_type": "code",
   "execution_count": 17,
   "id": "60ac88ab",
   "metadata": {},
   "outputs": [
    {
     "name": "stdout",
     "output_type": "stream",
     "text": [
      "Top 10 Items which have been bought the maximum.\n"
     ]
    },
    {
     "data": {
      "image/png": "[encoded data removed]",
      "text/plain": [
       "<Figure size 432x288 with 1 Axes>"
      ]
     },
     "metadata": {
      "needs_background": "light"
     },
     "output_type": "display_data"
    }
   ],
   "source": [
    "print(\"Top 10 Items which have been bought the maximum.\")\n",
    "\n",
    "top10_item_buy_chart = sns.barplot(x=buys_df['Item_ID'].value_counts().nlargest(10).index, y=buys_df['Item_ID'].value_counts().nlargest(10))\n",
    "top10_item_buy_chart.set_xticklabels(top10_item_buy_chart.get_xticklabels(),rotation=45)\n",
    "plt.xlabel('Item_ID')\n",
    "plt.ylabel('Count')\n",
    "plt.title('Top 10 Items which have been bought the maximum.')\n",
    "plt.show()"
   ]
  },
  {
   "cell_type": "markdown",
   "id": "f2abba9d",
   "metadata": {},
   "source": [
    "**Top 10 items (large Quantity)**"
   ]
  },
  {
   "cell_type": "code",
   "execution_count": 18,
   "id": "12e082e9",
   "metadata": {},
   "outputs": [
    {
     "name": "stdout",
     "output_type": "stream",
     "text": [
      "Top 10 items which are purchased in larger quantities.\n"
     ]
    },
    {
     "data": {
      "image/png": "[encoded data removed]",
      "text/plain": [
       "<Figure size 432x288 with 1 Axes>"
      ]
     },
     "metadata": {
      "needs_background": "light"
     },
     "output_type": "display_data"
    }
   ],
   "source": [
    "print(\"Top 10 items which are purchased in larger quantities.\")\n",
    "quantity_analysis = buys_df[['Item_ID','Quantity']].groupby('Item_ID').agg(total_quantity=pd.NamedAgg(column='Quantity',aggfunc=sum))\n",
    "\n",
    "quant_analysis = quantity_analysis.sort_values('total_quantity',ascending=False).nlargest(10,columns='total_quantity')\n",
    "\n",
    "top10_item_quantity_chart = sns.barplot(x = quant_analysis.index, y = quant_analysis['total_quantity'] ,data = quant_analysis)\n",
    "top10_item_quantity_chart.set_xticklabels(top10_item_quantity_chart.get_xticklabels(),rotation=45)\n",
    "plt.xlabel('Item_ID')\n",
    "plt.ylabel('Quantity')\n",
    "plt.title('Top 10 items which are purchased in larger quantities.')\n",
    "plt.show()"
   ]
  },
  {
   "cell_type": "markdown",
   "id": "fbb9c119",
   "metadata": {},
   "source": [
    "**Top 10 Items (Highest Price)**"
   ]
  },
  {
   "cell_type": "code",
   "execution_count": 19,
   "id": "c5e48208",
   "metadata": {},
   "outputs": [
    {
     "name": "stdout",
     "output_type": "stream",
     "text": [
      "Top 10 items Identifying the items having the maximum price.\n"
     ]
    },
    {
     "data": {
      "image/png": "[encoded data removed]",
      "text/plain": [
       "<Figure size 432x288 with 1 Axes>"
      ]
     },
     "metadata": {
      "needs_background": "light"
     },
     "output_type": "display_data"
    }
   ],
   "source": [
    "print(\"Top 10 items Identifying the items having the maximum price.\")\n",
    "buys_plot = buys_df[['Item_ID','Price']].drop_duplicates().sort_values('Price',ascending=False).nlargest(10,columns='Price')\n",
    "\n",
    "top10_buy_pricy_chart = sns.barplot(x = buys_plot['Item_ID'] , y = buys_plot['Price'] ,data = buys_plot)\n",
    "top10_buy_pricy_chart.set_xticklabels(top10_buy_pricy_chart.get_xticklabels(),rotation=45)\n",
    "\n",
    "plt.xlabel('Item_id')\n",
    "plt.ylabel('Price')\n",
    "plt.title('Top 10 items having the maximum cost price.')\n",
    "plt.show()"
   ]
  },
  {
   "cell_type": "markdown",
   "id": "5da2b907",
   "metadata": {},
   "source": [
    "### Preprocessing & Transformation Data"
   ]
  },
  {
   "cell_type": "markdown",
   "id": "9a73b451",
   "metadata": {},
   "source": [
    "*Preprocessing for `Buys`*"
   ]
  },
  {
   "cell_type": "code",
   "execution_count": 20,
   "id": "fd59ac6c",
   "metadata": {},
   "outputs": [],
   "source": [
    "def transforming_buys(buys):\n",
    "    print(\"Transforming the buys...\")\n",
    "    grouped = buys_df.groupby(\"Session_ID\")\n",
    "    buys_g = pd.DataFrame(index=grouped.groups.keys())        \n",
    "    buys_g[\"Number_items_bought\"] = grouped.Item_ID.count()\n",
    "    buys_g[\"unique_items_bought\"] = grouped.Item_ID.unique()\n",
    "    buys_g[\"is_buy\"] = 1\n",
    "    buys_g.index.name = \"Session_ID\"\n",
    "    print(\"Transformation of the buys completed...\")\n",
    "    return buys_g"
   ]
  },
  {
   "cell_type": "code",
   "execution_count": 21,
   "id": "8d96bdc3",
   "metadata": {},
   "outputs": [
    {
     "name": "stdout",
     "output_type": "stream",
     "text": [
      "Transforming the buys...\n",
      "Transformation of the buys completed...\n"
     ]
    }
   ],
   "source": [
    "buys_data_df = transforming_buys(buys_df)"
   ]
  },
  {
   "cell_type": "code",
   "execution_count": 24,
   "id": "ef50b429",
   "metadata": {},
   "outputs": [
    {
     "data": {
      "text/plain": [
       "array([214548744, 214838503])"
      ]
     },
     "execution_count": 24,
     "metadata": {},
     "output_type": "execute_result"
    }
   ],
   "source": [
    "buys_data_df.unique_items_bought.iloc[2]"
   ]
  },
  {
   "cell_type": "markdown",
   "id": "e6c8e281",
   "metadata": {},
   "source": [
    "*Preprocessing for `Clicks`*"
   ]
  },
  {
   "cell_type": "markdown",
   "id": "f4b383c4",
   "metadata": {},
   "source": [
    "**Category Mapping**"
   ]
  },
  {
   "cell_type": "code",
   "execution_count": 25,
   "id": "4e7b5fe9",
   "metadata": {},
   "outputs": [],
   "source": [
    "def convertCategory(x):\n",
    "        if x == 'S':\n",
    "            return -1\n",
    "        elif x in ['1','2','3','4','5','6','7','8','9','10','11','12']:\n",
    "            return int(x)\n",
    "        else:\n",
    "            return 13"
   ]
  },
  {
   "cell_type": "code",
   "execution_count": 26,
   "id": "7f45ec7e",
   "metadata": {},
   "outputs": [],
   "source": [
    "clicks_df[\"Category\"] = clicks_df[\"Category\"].apply(convertCategory)"
   ]
  },
  {
   "cell_type": "code",
   "execution_count": 27,
   "id": "9c2ee505",
   "metadata": {},
   "outputs": [
    {
     "data": {
      "text/plain": [
       "array([13, -1,  4,  7,  3,  2,  1,  6,  5, 10,  9, 11, 12,  8])"
      ]
     },
     "execution_count": 27,
     "metadata": {},
     "output_type": "execute_result"
    }
   ],
   "source": [
    "clicks_df[\"Category\"].unique()"
   ]
  },
  {
   "cell_type": "code",
   "execution_count": 28,
   "id": "5833b1b7",
   "metadata": {},
   "outputs": [],
   "source": [
    "def transforming_clicks(clicks):\n",
    "\n",
    "    print(\"Grouping click data...\")\n",
    "    clicks_new = clicks.groupby('Session_ID')['Timestamp'].agg([min,max])\n",
    "    clicks_new['max'] = pd.to_datetime(clicks_new['max'])\n",
    "    clicks_new['min'] = pd.to_datetime(clicks_new['min'])\n",
    "    \n",
    "    print(\"Calculating Dwell Time...\")\n",
    "    clicks_new['Dwell_Time'] = pd.to_datetime(clicks_new['max']) - pd.to_datetime(clicks_new['min']) #cal the dwell time of the session.\n",
    "    \n",
    "    clicks_new['Dwell_Time_Seconds'] = clicks_new['Dwell_Time'].astype('timedelta64[s]') #converting dwell time into seconds\n",
    "\n",
    "    grouped = clicks.groupby('Session_ID')\n",
    "\n",
    "    print(\"Calculating the total clicks\")\n",
    "    clicks_new['Total_Clicks'] = grouped.Item_ID.count()\n",
    "\n",
    "    print(\"Calculating the day of week\")\n",
    "    clicks_new['Dayofweek'] = clicks_new['min'].dt.dayofweek\n",
    "\n",
    "    print(\"Calculating the day of month\")\n",
    "    clicks_new['Dayofmonth'] = clicks_new['min'].dt.day\n",
    "\n",
    "    print(\"Calculating hour of click\")\n",
    "    clicks_new['Hourofclick'] = clicks_new['min'].dt.hour\n",
    "\n",
    "    print(\"Calculating time of click\")\n",
    "    b = [0,4,8,12,16,20,24]\n",
    "    l = ['Late Night', 'Early Morning','Morning','Noon','Evening','Night']\n",
    "    clicks_new['Timeofday'] = pd.cut(clicks_new['Hourofclick'], bins=b, labels=l, include_lowest=True)\n",
    "\n",
    "    print(\"Calculating clickrate\")\n",
    "    clicks_new[\"Click_Rate\"] = clicks_new[\"Total_Clicks\"] / clicks_new[\"Dwell_Time_Seconds\"]\n",
    "    clicks_new.Click_Rate = clicks_new.Click_Rate.replace(np.inf, np.nan)\n",
    "    clicks_new.Click_Rate = clicks_new.Click_Rate.fillna(0)\n",
    "\n",
    "    print(\"**Transformed**\")\n",
    "    return clicks_new"
   ]
  },
  {
   "cell_type": "code",
   "execution_count": 29,
   "id": "7e376e9d",
   "metadata": {},
   "outputs": [
    {
     "name": "stdout",
     "output_type": "stream",
     "text": [
      "Grouping click data...\n",
      "Calculating Dwell Time...\n",
      "Calculating the total clicks\n",
      "Calculating the day of week\n",
      "Calculating the day of month\n",
      "Calculating hour of click\n",
      "Calculating time of click\n",
      "Calculating clickrate\n",
      "**Transformed**\n"
     ]
    }
   ],
   "source": [
    "clicks_data_df = transforming_clicks(clicks_df)\n",
    "#sub_clicks_df = clicks_df[0:100000]"
   ]
  },
  {
   "cell_type": "code",
   "execution_count": 30,
   "id": "c8cb9488",
   "metadata": {},
   "outputs": [
    {
     "data": {
      "text/html": [
       "<div>\n",
       "<style scoped>\n",
       "    .dataframe tbody tr th:only-of-type {\n",
       "        vertical-align: middle;\n",
       "    }\n",
       "\n",
       "    .dataframe tbody tr th {\n",
       "        vertical-align: top;\n",
       "    }\n",
       "\n",
       "    .dataframe thead th {\n",
       "        text-align: right;\n",
       "    }\n",
       "</style>\n",
       "<table border=\"1\" class=\"dataframe\">\n",
       "  <thead>\n",
       "    <tr style=\"text-align: right;\">\n",
       "      <th></th>\n",
       "      <th>min</th>\n",
       "      <th>max</th>\n",
       "      <th>Dwell_Time</th>\n",
       "      <th>Dwell_Time_Seconds</th>\n",
       "      <th>Total_Clicks</th>\n",
       "      <th>Dayofweek</th>\n",
       "      <th>Dayofmonth</th>\n",
       "      <th>Hourofclick</th>\n",
       "      <th>Timeofday</th>\n",
       "      <th>Click_Rate</th>\n",
       "    </tr>\n",
       "    <tr>\n",
       "      <th>Session_ID</th>\n",
       "      <th></th>\n",
       "      <th></th>\n",
       "      <th></th>\n",
       "      <th></th>\n",
       "      <th></th>\n",
       "      <th></th>\n",
       "      <th></th>\n",
       "      <th></th>\n",
       "      <th></th>\n",
       "      <th></th>\n",
       "    </tr>\n",
       "  </thead>\n",
       "  <tbody>\n",
       "    <tr>\n",
       "      <th>1</th>\n",
       "      <td>2014-04-07 10:51:09.277000+00:00</td>\n",
       "      <td>2014-04-07 10:57:00.306000+00:00</td>\n",
       "      <td>00:05:51.029000</td>\n",
       "      <td>351.0</td>\n",
       "      <td>4</td>\n",
       "      <td>0</td>\n",
       "      <td>7</td>\n",
       "      <td>10</td>\n",
       "      <td>Morning</td>\n",
       "      <td>0.011396</td>\n",
       "    </tr>\n",
       "    <tr>\n",
       "      <th>2</th>\n",
       "      <td>2014-04-07 13:56:37.614000+00:00</td>\n",
       "      <td>2014-04-07 14:02:36.889000+00:00</td>\n",
       "      <td>00:05:59.275000</td>\n",
       "      <td>359.0</td>\n",
       "      <td>6</td>\n",
       "      <td>0</td>\n",
       "      <td>7</td>\n",
       "      <td>13</td>\n",
       "      <td>Noon</td>\n",
       "      <td>0.016713</td>\n",
       "    </tr>\n",
       "    <tr>\n",
       "      <th>3</th>\n",
       "      <td>2014-04-02 13:17:46.940000+00:00</td>\n",
       "      <td>2014-04-02 13:30:12.318000+00:00</td>\n",
       "      <td>00:12:25.378000</td>\n",
       "      <td>745.0</td>\n",
       "      <td>3</td>\n",
       "      <td>2</td>\n",
       "      <td>2</td>\n",
       "      <td>13</td>\n",
       "      <td>Noon</td>\n",
       "      <td>0.004027</td>\n",
       "    </tr>\n",
       "    <tr>\n",
       "      <th>4</th>\n",
       "      <td>2014-04-07 12:09:10.948000+00:00</td>\n",
       "      <td>2014-04-07 12:26:25.416000+00:00</td>\n",
       "      <td>00:17:14.468000</td>\n",
       "      <td>1034.0</td>\n",
       "      <td>2</td>\n",
       "      <td>0</td>\n",
       "      <td>7</td>\n",
       "      <td>12</td>\n",
       "      <td>Morning</td>\n",
       "      <td>0.001934</td>\n",
       "    </tr>\n",
       "    <tr>\n",
       "      <th>6</th>\n",
       "      <td>2014-04-06 16:58:20.848000+00:00</td>\n",
       "      <td>2014-04-06 17:02:26.976000+00:00</td>\n",
       "      <td>00:04:06.128000</td>\n",
       "      <td>246.0</td>\n",
       "      <td>2</td>\n",
       "      <td>6</td>\n",
       "      <td>6</td>\n",
       "      <td>16</td>\n",
       "      <td>Noon</td>\n",
       "      <td>0.008130</td>\n",
       "    </tr>\n",
       "  </tbody>\n",
       "</table>\n",
       "</div>"
      ],
      "text/plain": [
       "                                        min                              max  \\\n",
       "Session_ID                                                                     \n",
       "1          2014-04-07 10:51:09.277000+00:00 2014-04-07 10:57:00.306000+00:00   \n",
       "2          2014-04-07 13:56:37.614000+00:00 2014-04-07 14:02:36.889000+00:00   \n",
       "3          2014-04-02 13:17:46.940000+00:00 2014-04-02 13:30:12.318000+00:00   \n",
       "4          2014-04-07 12:09:10.948000+00:00 2014-04-07 12:26:25.416000+00:00   \n",
       "6          2014-04-06 16:58:20.848000+00:00 2014-04-06 17:02:26.976000+00:00   \n",
       "\n",
       "                Dwell_Time  Dwell_Time_Seconds  Total_Clicks  Dayofweek  \\\n",
       "Session_ID                                                                \n",
       "1          00:05:51.029000               351.0             4          0   \n",
       "2          00:05:59.275000               359.0             6          0   \n",
       "3          00:12:25.378000               745.0             3          2   \n",
       "4          00:17:14.468000              1034.0             2          0   \n",
       "6          00:04:06.128000               246.0             2          6   \n",
       "\n",
       "            Dayofmonth  Hourofclick Timeofday  Click_Rate  \n",
       "Session_ID                                                 \n",
       "1                    7           10   Morning    0.011396  \n",
       "2                    7           13      Noon    0.016713  \n",
       "3                    2           13      Noon    0.004027  \n",
       "4                    7           12   Morning    0.001934  \n",
       "6                    6           16      Noon    0.008130  "
      ]
     },
     "execution_count": 30,
     "metadata": {},
     "output_type": "execute_result"
    }
   ],
   "source": [
    "clicks_data_df.head()"
   ]
  },
  {
   "cell_type": "markdown",
   "id": "56c1b619",
   "metadata": {},
   "source": [
    "**Transform `Clicks` 2**"
   ]
  },
  {
   "cell_type": "code",
   "execution_count": 31,
   "id": "48f1aa36",
   "metadata": {},
   "outputs": [],
   "source": [
    "def transforming_clicks2(clicks):\n",
    "    grouped = clicks.groupby('Session_ID').agg({'Item_ID':['first','last','nunique'],'Category':['nunique']})        \n",
    "    return grouped"
   ]
  },
  {
   "cell_type": "code",
   "execution_count": 32,
   "id": "1fff60fb",
   "metadata": {},
   "outputs": [],
   "source": [
    "clicks_data_df2 = transforming_clicks2(clicks_df)"
   ]
  },
  {
   "cell_type": "code",
   "execution_count": 33,
   "id": "6d681dd6",
   "metadata": {},
   "outputs": [
    {
     "data": {
      "text/html": [
       "<div>\n",
       "<style scoped>\n",
       "    .dataframe tbody tr th:only-of-type {\n",
       "        vertical-align: middle;\n",
       "    }\n",
       "\n",
       "    .dataframe tbody tr th {\n",
       "        vertical-align: top;\n",
       "    }\n",
       "\n",
       "    .dataframe thead tr th {\n",
       "        text-align: left;\n",
       "    }\n",
       "\n",
       "    .dataframe thead tr:last-of-type th {\n",
       "        text-align: right;\n",
       "    }\n",
       "</style>\n",
       "<table border=\"1\" class=\"dataframe\">\n",
       "  <thead>\n",
       "    <tr>\n",
       "      <th></th>\n",
       "      <th colspan=\"3\" halign=\"left\">Item_ID</th>\n",
       "      <th>Category</th>\n",
       "    </tr>\n",
       "    <tr>\n",
       "      <th></th>\n",
       "      <th>first</th>\n",
       "      <th>last</th>\n",
       "      <th>nunique</th>\n",
       "      <th>nunique</th>\n",
       "    </tr>\n",
       "    <tr>\n",
       "      <th>Session_ID</th>\n",
       "      <th></th>\n",
       "      <th></th>\n",
       "      <th></th>\n",
       "      <th></th>\n",
       "    </tr>\n",
       "  </thead>\n",
       "  <tbody>\n",
       "    <tr>\n",
       "      <th>1</th>\n",
       "      <td>214536502</td>\n",
       "      <td>214577561</td>\n",
       "      <td>4</td>\n",
       "      <td>1</td>\n",
       "    </tr>\n",
       "    <tr>\n",
       "      <th>2</th>\n",
       "      <td>214662742</td>\n",
       "      <td>214551617</td>\n",
       "      <td>5</td>\n",
       "      <td>1</td>\n",
       "    </tr>\n",
       "    <tr>\n",
       "      <th>3</th>\n",
       "      <td>214716935</td>\n",
       "      <td>214832672</td>\n",
       "      <td>3</td>\n",
       "      <td>1</td>\n",
       "    </tr>\n",
       "    <tr>\n",
       "      <th>4</th>\n",
       "      <td>214836765</td>\n",
       "      <td>214706482</td>\n",
       "      <td>2</td>\n",
       "      <td>1</td>\n",
       "    </tr>\n",
       "    <tr>\n",
       "      <th>6</th>\n",
       "      <td>214701242</td>\n",
       "      <td>214826623</td>\n",
       "      <td>2</td>\n",
       "      <td>1</td>\n",
       "    </tr>\n",
       "  </tbody>\n",
       "</table>\n",
       "</div>"
      ],
      "text/plain": [
       "              Item_ID                    Category\n",
       "                first       last nunique  nunique\n",
       "Session_ID                                       \n",
       "1           214536502  214577561       4        1\n",
       "2           214662742  214551617       5        1\n",
       "3           214716935  214832672       3        1\n",
       "4           214836765  214706482       2        1\n",
       "6           214701242  214826623       2        1"
      ]
     },
     "execution_count": 33,
     "metadata": {},
     "output_type": "execute_result"
    }
   ],
   "source": [
    "clicks_data_df2.head()"
   ]
  },
  {
   "cell_type": "code",
   "execution_count": 34,
   "id": "5c8ee7f1",
   "metadata": {},
   "outputs": [],
   "source": [
    "colnames=['First_Clicked_Item','Last_Clicked_Item','Total_Unique_Items','Total_Unique_Categories']\n",
    "clicks_data_df2.columns = colnames"
   ]
  },
  {
   "cell_type": "code",
   "execution_count": 35,
   "id": "6afc5a08",
   "metadata": {},
   "outputs": [
    {
     "data": {
      "text/html": [
       "<div>\n",
       "<style scoped>\n",
       "    .dataframe tbody tr th:only-of-type {\n",
       "        vertical-align: middle;\n",
       "    }\n",
       "\n",
       "    .dataframe tbody tr th {\n",
       "        vertical-align: top;\n",
       "    }\n",
       "\n",
       "    .dataframe thead th {\n",
       "        text-align: right;\n",
       "    }\n",
       "</style>\n",
       "<table border=\"1\" class=\"dataframe\">\n",
       "  <thead>\n",
       "    <tr style=\"text-align: right;\">\n",
       "      <th></th>\n",
       "      <th>First_Clicked_Item</th>\n",
       "      <th>Last_Clicked_Item</th>\n",
       "      <th>Total_Unique_Items</th>\n",
       "      <th>Total_Unique_Categories</th>\n",
       "    </tr>\n",
       "    <tr>\n",
       "      <th>Session_ID</th>\n",
       "      <th></th>\n",
       "      <th></th>\n",
       "      <th></th>\n",
       "      <th></th>\n",
       "    </tr>\n",
       "  </thead>\n",
       "  <tbody>\n",
       "    <tr>\n",
       "      <th>1</th>\n",
       "      <td>214536502</td>\n",
       "      <td>214577561</td>\n",
       "      <td>4</td>\n",
       "      <td>1</td>\n",
       "    </tr>\n",
       "    <tr>\n",
       "      <th>2</th>\n",
       "      <td>214662742</td>\n",
       "      <td>214551617</td>\n",
       "      <td>5</td>\n",
       "      <td>1</td>\n",
       "    </tr>\n",
       "    <tr>\n",
       "      <th>3</th>\n",
       "      <td>214716935</td>\n",
       "      <td>214832672</td>\n",
       "      <td>3</td>\n",
       "      <td>1</td>\n",
       "    </tr>\n",
       "    <tr>\n",
       "      <th>4</th>\n",
       "      <td>214836765</td>\n",
       "      <td>214706482</td>\n",
       "      <td>2</td>\n",
       "      <td>1</td>\n",
       "    </tr>\n",
       "    <tr>\n",
       "      <th>6</th>\n",
       "      <td>214701242</td>\n",
       "      <td>214826623</td>\n",
       "      <td>2</td>\n",
       "      <td>1</td>\n",
       "    </tr>\n",
       "  </tbody>\n",
       "</table>\n",
       "</div>"
      ],
      "text/plain": [
       "            First_Clicked_Item  Last_Clicked_Item  Total_Unique_Items  \\\n",
       "Session_ID                                                              \n",
       "1                    214536502          214577561                   4   \n",
       "2                    214662742          214551617                   5   \n",
       "3                    214716935          214832672                   3   \n",
       "4                    214836765          214706482                   2   \n",
       "6                    214701242          214826623                   2   \n",
       "\n",
       "            Total_Unique_Categories  \n",
       "Session_ID                           \n",
       "1                                 1  \n",
       "2                                 1  \n",
       "3                                 1  \n",
       "4                                 1  \n",
       "6                                 1  "
      ]
     },
     "execution_count": 35,
     "metadata": {},
     "output_type": "execute_result"
    }
   ],
   "source": [
    "clicks_data_df2.head()"
   ]
  },
  {
   "cell_type": "markdown",
   "id": "fec0ad22",
   "metadata": {},
   "source": [
    "**Transform `Clicks` 3**"
   ]
  },
  {
   "cell_type": "code",
   "execution_count": 36,
   "id": "d3f0afe4",
   "metadata": {},
   "outputs": [],
   "source": [
    "def transforming_clicks3(clicks):   \n",
    "    keys, values = clicks.sort_values('Session_ID').values.T\n",
    "    \n",
    "    ukeys, index = np.unique(keys, True)\n",
    "    arrays = np.split(values, index[1:])\n",
    "    df2 = pd.DataFrame({'a':ukeys, 'b':(a for a in arrays)})\n",
    "    return df2"
   ]
  },
  {
   "cell_type": "code",
   "execution_count": 37,
   "id": "1fca0858",
   "metadata": {},
   "outputs": [],
   "source": [
    "clicks_data_df3 = transforming_clicks3(clicks_df[['Session_ID','Item_ID']])"
   ]
  },
  {
   "cell_type": "code",
   "execution_count": 38,
   "id": "dbb5a3db",
   "metadata": {},
   "outputs": [
    {
     "data": {
      "text/html": [
       "<div>\n",
       "<style scoped>\n",
       "    .dataframe tbody tr th:only-of-type {\n",
       "        vertical-align: middle;\n",
       "    }\n",
       "\n",
       "    .dataframe tbody tr th {\n",
       "        vertical-align: top;\n",
       "    }\n",
       "\n",
       "    .dataframe thead th {\n",
       "        text-align: right;\n",
       "    }\n",
       "</style>\n",
       "<table border=\"1\" class=\"dataframe\">\n",
       "  <thead>\n",
       "    <tr style=\"text-align: right;\">\n",
       "      <th></th>\n",
       "      <th>a</th>\n",
       "      <th>b</th>\n",
       "    </tr>\n",
       "  </thead>\n",
       "  <tbody>\n",
       "    <tr>\n",
       "      <th>0</th>\n",
       "      <td>1</td>\n",
       "      <td>[214536502, 214536500, 214536506, 214577561]</td>\n",
       "    </tr>\n",
       "    <tr>\n",
       "      <th>1</th>\n",
       "      <td>2</td>\n",
       "      <td>[214662742, 214662742, 214825110, 214757390, 2...</td>\n",
       "    </tr>\n",
       "    <tr>\n",
       "      <th>2</th>\n",
       "      <td>3</td>\n",
       "      <td>[214832672, 214716935, 214774687]</td>\n",
       "    </tr>\n",
       "    <tr>\n",
       "      <th>3</th>\n",
       "      <td>4</td>\n",
       "      <td>[214836765, 214706482]</td>\n",
       "    </tr>\n",
       "    <tr>\n",
       "      <th>4</th>\n",
       "      <td>6</td>\n",
       "      <td>[214701242, 214826623]</td>\n",
       "    </tr>\n",
       "  </tbody>\n",
       "</table>\n",
       "</div>"
      ],
      "text/plain": [
       "   a                                                  b\n",
       "0  1       [214536502, 214536500, 214536506, 214577561]\n",
       "1  2  [214662742, 214662742, 214825110, 214757390, 2...\n",
       "2  3                  [214832672, 214716935, 214774687]\n",
       "3  4                             [214836765, 214706482]\n",
       "4  6                             [214701242, 214826623]"
      ]
     },
     "execution_count": 38,
     "metadata": {},
     "output_type": "execute_result"
    }
   ],
   "source": [
    "clicks_data_df3.head()"
   ]
  },
  {
   "cell_type": "code",
   "execution_count": 39,
   "id": "04dc4a0c",
   "metadata": {},
   "outputs": [],
   "source": [
    "colnames=['Session_ID','Visited_Items']\n",
    "clicks_data_df3.columns = colnames\n",
    "clicks_data_df3 = clicks_data_df3.set_index('Session_ID')"
   ]
  },
  {
   "cell_type": "code",
   "execution_count": 40,
   "id": "d968fd4d",
   "metadata": {},
   "outputs": [
    {
     "data": {
      "text/html": [
       "<div>\n",
       "<style scoped>\n",
       "    .dataframe tbody tr th:only-of-type {\n",
       "        vertical-align: middle;\n",
       "    }\n",
       "\n",
       "    .dataframe tbody tr th {\n",
       "        vertical-align: top;\n",
       "    }\n",
       "\n",
       "    .dataframe thead th {\n",
       "        text-align: right;\n",
       "    }\n",
       "</style>\n",
       "<table border=\"1\" class=\"dataframe\">\n",
       "  <thead>\n",
       "    <tr style=\"text-align: right;\">\n",
       "      <th></th>\n",
       "      <th>Visited_Items</th>\n",
       "    </tr>\n",
       "    <tr>\n",
       "      <th>Session_ID</th>\n",
       "      <th></th>\n",
       "    </tr>\n",
       "  </thead>\n",
       "  <tbody>\n",
       "    <tr>\n",
       "      <th>1</th>\n",
       "      <td>[214536502, 214536500, 214536506, 214577561]</td>\n",
       "    </tr>\n",
       "    <tr>\n",
       "      <th>2</th>\n",
       "      <td>[214662742, 214662742, 214825110, 214757390, 2...</td>\n",
       "    </tr>\n",
       "    <tr>\n",
       "      <th>3</th>\n",
       "      <td>[214832672, 214716935, 214774687]</td>\n",
       "    </tr>\n",
       "    <tr>\n",
       "      <th>4</th>\n",
       "      <td>[214836765, 214706482]</td>\n",
       "    </tr>\n",
       "    <tr>\n",
       "      <th>6</th>\n",
       "      <td>[214701242, 214826623]</td>\n",
       "    </tr>\n",
       "  </tbody>\n",
       "</table>\n",
       "</div>"
      ],
      "text/plain": [
       "                                                Visited_Items\n",
       "Session_ID                                                   \n",
       "1                [214536502, 214536500, 214536506, 214577561]\n",
       "2           [214662742, 214662742, 214825110, 214757390, 2...\n",
       "3                           [214832672, 214716935, 214774687]\n",
       "4                                      [214836765, 214706482]\n",
       "6                                      [214701242, 214826623]"
      ]
     },
     "execution_count": 40,
     "metadata": {},
     "output_type": "execute_result"
    }
   ],
   "source": [
    "clicks_data_df3.head()"
   ]
  },
  {
   "cell_type": "markdown",
   "id": "d0278956",
   "metadata": {},
   "source": [
    "**Transform `Clicks` 3 for Category**"
   ]
  },
  {
   "cell_type": "code",
   "execution_count": 41,
   "id": "fe94b7d2",
   "metadata": {},
   "outputs": [],
   "source": [
    "#['Session_ID','Category']\n",
    "clicks_data_df3_cat = transforming_clicks3(clicks_df[['Session_ID','Category']])"
   ]
  },
  {
   "cell_type": "code",
   "execution_count": 42,
   "id": "8a6b962a",
   "metadata": {},
   "outputs": [],
   "source": [
    "def calc_special_offer(x):\n",
    "        if -1 in x:\n",
    "            return 1\n",
    "        else:\n",
    "            return 0"
   ]
  },
  {
   "cell_type": "code",
   "execution_count": 43,
   "id": "5ed8526b",
   "metadata": {},
   "outputs": [],
   "source": [
    "colnames=['Session_ID','Visited_Categories']\n",
    "clicks_data_df3_cat.columns = colnames\n",
    "clicks_data_df3_cat = clicks_data_df3_cat.set_index('Session_ID')\n",
    "clicks_data_df3_cat['Number_Clicked_Visited_Categories'] = clicks_data_df3_cat['Visited_Categories'].apply(lambda x : len(x))\n",
    "clicks_data_df3_cat['Special_Offer_Click']=clicks_data_df3_cat['Visited_Categories'].apply(calc_special_offer)"
   ]
  },
  {
   "cell_type": "markdown",
   "id": "6505d913",
   "metadata": {},
   "source": [
    "### Combined `Clicks` Data"
   ]
  },
  {
   "cell_type": "code",
   "execution_count": 44,
   "id": "0d224d40",
   "metadata": {},
   "outputs": [],
   "source": [
    "clicks_tranformed = pd.concat([clicks_data_df,clicks_data_df2,clicks_data_df3,clicks_data_df3_cat], axis=1)"
   ]
  },
  {
   "cell_type": "code",
   "execution_count": 45,
   "id": "d88336a0",
   "metadata": {},
   "outputs": [
    {
     "name": "stdout",
     "output_type": "stream",
     "text": [
      "<class 'pandas.core.frame.DataFrame'>\n",
      "Int64Index: 9249729 entries, 1 to 11562161\n",
      "Data columns (total 18 columns):\n",
      "min                                  datetime64[ns, UTC]\n",
      "max                                  datetime64[ns, UTC]\n",
      "Dwell_Time                           timedelta64[ns]\n",
      "Dwell_Time_Seconds                   float64\n",
      "Total_Clicks                         int64\n",
      "Dayofweek                            int64\n",
      "Dayofmonth                           int64\n",
      "Hourofclick                          int64\n",
      "Timeofday                            category\n",
      "Click_Rate                           float64\n",
      "First_Clicked_Item                   int64\n",
      "Last_Clicked_Item                    int64\n",
      "Total_Unique_Items                   int64\n",
      "Total_Unique_Categories              int64\n",
      "Visited_Items                        object\n",
      "Visited_Categories                   object\n",
      "Number_Clicked_Visited_Categories    int64\n",
      "Special_Offer_Click                  int64\n",
      "dtypes: category(1), datetime64[ns, UTC](2), float64(2), int64(10), object(2), timedelta64[ns](1)\n",
      "memory usage: 1.2+ GB\n"
     ]
    }
   ],
   "source": [
    "clicks_tranformed.info()"
   ]
  },
  {
   "cell_type": "markdown",
   "id": "3792d63c",
   "metadata": {},
   "source": [
    "## Combined `Clicks` and `Buys`"
   ]
  },
  {
   "cell_type": "code",
   "execution_count": 46,
   "id": "7240efc7",
   "metadata": {},
   "outputs": [
    {
     "name": "stdout",
     "output_type": "stream",
     "text": [
      "<class 'pandas.core.frame.DataFrame'>\n",
      "Int64Index: 509696 entries, 11 to 11562121\n",
      "Data columns (total 3 columns):\n",
      "Number_items_bought    509696 non-null int64\n",
      "unique_items_bought    509696 non-null object\n",
      "is_buy                 509696 non-null int64\n",
      "dtypes: int64(2), object(1)\n",
      "memory usage: 15.6+ MB\n"
     ]
    }
   ],
   "source": [
    "buys_data_df.info()"
   ]
  },
  {
   "cell_type": "code",
   "execution_count": 47,
   "id": "6a41e2c2",
   "metadata": {},
   "outputs": [],
   "source": [
    "#training_data = pd.merge(clicks_tranformed,buys_data_df['is_buy'],how='left',left_index=True,right_index=True)\n",
    "#training_data['is_buy'] = training_data['is_buy'].fillna(0)"
   ]
  },
  {
   "cell_type": "code",
   "execution_count": 48,
   "id": "d1b897fc",
   "metadata": {},
   "outputs": [
    {
     "name": "stdout",
     "output_type": "stream",
     "text": [
      "Clicks data: (9249729, 18)\n",
      "Buys data: (509696, 3)\n"
     ]
    }
   ],
   "source": [
    "print(\"Clicks data: {}\".format(clicks_tranformed.shape))\n",
    "print(\"Buys data: {}\".format(buys_data_df.shape))\n",
    "#print(\"Training data: {}\".format(training_data.shape))"
   ]
  },
  {
   "cell_type": "markdown",
   "id": "361060df",
   "metadata": {},
   "source": [
    "## Dump to HDF5"
   ]
  },
  {
   "cell_type": "code",
   "execution_count": 59,
   "id": "a23187ce",
   "metadata": {},
   "outputs": [],
   "source": [
    "#!pip install pytables\n",
    "import pickle"
   ]
  },
  {
   "cell_type": "code",
   "execution_count": 60,
   "id": "9ac75874",
   "metadata": {},
   "outputs": [],
   "source": [
    "#training_data['is_buy'].unique()\n",
    "\n",
    "#df = pd.DataFrame({'A': [1, 2, 3], 'B': [4, 5, 6]},index=['a', 'b', 'c'])\n",
    "#df.to_hdf('data.h5', key='df', mode='w')\n",
    "#clicks_tranformed.to_hdf(data_dir+'clicks_tranformed.h5', key='df', mode='w',format='table')\n",
    "\n",
    "data = {\"clicks\":clicks_tranformed,\"buys\":buys_data_df}\n",
    "with open(data_dir+\"my_eda1.pkl\",\"wb\") as file: \n",
    "    pickle.dump(data,file)"
   ]
  },
  {
   "cell_type": "code",
   "execution_count": 50,
   "id": "9d59adde",
   "metadata": {},
   "outputs": [],
   "source": [
    "#training_data.head()"
   ]
  },
  {
   "cell_type": "code",
   "execution_count": 173,
   "id": "bce58df8",
   "metadata": {},
   "outputs": [],
   "source": [
    "#training_data.to_csv(data_dir + 'my_training_data_raw.zip', index=True,compression=\"zip\")  "
   ]
  },
  {
   "cell_type": "code",
   "execution_count": 52,
   "id": "80b6d21f",
   "metadata": {},
   "outputs": [],
   "source": [
    "#buys_data_df.to_csv(data_dir + 'my_buys_data_raw.zip', index=True,compression=\"zip\")  "
   ]
  },
  {
   "cell_type": "code",
   "execution_count": 51,
   "id": "92f134cf",
   "metadata": {},
   "outputs": [],
   "source": [
    "#clicks_data.head()"
   ]
  },
  {
   "cell_type": "code",
   "execution_count": null,
   "id": "3da25103",
   "metadata": {},
   "outputs": [],
   "source": []
  }
 ],
 "metadata": {
  "kernelspec": {
   "display_name": "newml",
   "language": "python",
   "name": "newml"
  },
  "language_info": {
   "codemirror_mode": {
    "name": "ipython",
    "version": 3
   },
   "file_extension": ".py",
   "mimetype": "text/x-python",
   "name": "python",
   "nbconvert_exporter": "python",
   "pygments_lexer": "ipython3",
   "version": "3.8.8"
  }
 },
 "nbformat": 4,
 "nbformat_minor": 5
}
